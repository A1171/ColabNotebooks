{
  "nbformat": 4,
  "nbformat_minor": 0,
  "metadata": {
    "colab": {
      "provenance": [],
      "authorship_tag": "ABX9TyMgBx+yTrTEePesB53LHDAr",
      "include_colab_link": true
    },
    "kernelspec": {
      "name": "python3",
      "display_name": "Python 3"
    },
    "language_info": {
      "name": "python"
    }
  },
  "cells": [
    {
      "cell_type": "markdown",
      "metadata": {
        "id": "view-in-github",
        "colab_type": "text"
      },
      "source": [
        "<a href=\"https://colab.research.google.com/github/A1171/ColabNotebooks/blob/main/%D0%A2%D0%B5%D1%81%D1%82%D0%B8%D1%80%D0%BE%D0%B2%D0%B0%D0%BD%D0%B8%D0%B5_%D1%81%D0%BD%D0%B8%D0%B6%D0%B5%D0%BD%D0%B8%D1%8F_%D1%80%D0%B0%D0%B7%D0%BC%D0%B5%D1%80%D0%BD%D0%BE%D1%81%D1%82%D0%B8_%D0%B2%D0%B5%D0%BA%D1%82%D0%BE%D1%80%D0%B0_%D1%87%D0%B5%D1%80%D0%B5%D0%B7_SVD.ipynb\" target=\"_parent\"><img src=\"https://colab.research.google.com/assets/colab-badge.svg\" alt=\"Open In Colab\"/></a>"
      ]
    },
    {
      "cell_type": "code",
      "execution_count": 1,
      "metadata": {
        "id": "JCvYEGsLxbhW"
      },
      "outputs": [],
      "source": [
        "from tensorflow.keras.models import Sequential\n",
        "from tensorflow.keras.layers import Dense\n",
        "from tensorflow.keras.datasets import mnist     # Библиотека с базой рукописных цифр\n",
        "from tensorflow.keras.models import Sequential  # Подключение класса создания модели Sequential\n",
        "from tensorflow.keras.layers import Dense       # Подключение класса Dense - полносвязный слой\n",
        "from tensorflow.keras import utils              # Утилиты для подготовки данных\n",
        "import numpy as np                              # Работа с массивами\n",
        "import matplotlib.pyplot as plt                 # Отрисовка изображений\n",
        "\n",
        "# Отрисовка изображений в ячейках ноутбука\n",
        "%matplotlib inline "
      ]
    },
    {
      "cell_type": "code",
      "source": [],
      "metadata": {
        "id": "oTogINYpxhKU"
      },
      "execution_count": null,
      "outputs": []
    },
    {
      "cell_type": "code",
      "source": [],
      "metadata": {
        "id": "vP4WWK6yxhN6"
      },
      "execution_count": null,
      "outputs": []
    },
    {
      "cell_type": "code",
      "source": [
        "# Загрузка из облака данных Mnist\n",
        "(x_train_org, y_train_org), (x_test_org, y_test_org) = mnist.load_data()"
      ],
      "metadata": {
        "colab": {
          "base_uri": "https://localhost:8080/"
        },
        "id": "Jfrd6fLvxhUg",
        "outputId": "8bb79bc1-9061-4e4e-9ccf-ed6c564e2bbd"
      },
      "execution_count": 2,
      "outputs": [
        {
          "output_type": "stream",
          "name": "stdout",
          "text": [
            "Downloading data from https://storage.googleapis.com/tensorflow/tf-keras-datasets/mnist.npz\n",
            "11490434/11490434 [==============================] - 0s 0us/step\n"
          ]
        }
      ]
    },
    {
      "cell_type": "code",
      "source": [
        "# Изменение формы входных картинок с 28х28 на 784\n",
        "# первая ось остается без изменения, остальные складываются в вектор\n",
        "x_train = x_train_org.reshape(x_train_org.shape[0], -1)   \n",
        "x_test = x_test_org.reshape(x_test_org.shape[0], -1)   \n",
        "\n",
        "# Проверка результата\n",
        "print(f'Форма обучающих данных: {x_train_org.shape} -> {x_train.shape}')\n",
        "print(f'Форма  тестовых данных: {x_test_org.shape} -> {x_test.shape}')\n",
        "# Нормализация входных картинок\n",
        "# Преобразование x_train в тип float32 (числа с плавающей точкой) и нормализация\n",
        "x_train = x_train.astype('float32') / 255.\n",
        "\n",
        "# Преобразование x_test в тип float32 (числа с плавающей точкой) и нормализация\n",
        "x_test = x_test.astype('float32') / 255."
      ],
      "metadata": {
        "colab": {
          "base_uri": "https://localhost:8080/"
        },
        "id": "GNugp31F0Ai4",
        "outputId": "364ff99f-1ca5-47a0-e85a-ed6902a1391a"
      },
      "execution_count": 3,
      "outputs": [
        {
          "output_type": "stream",
          "name": "stdout",
          "text": [
            "Форма обучающих данных: (60000, 28, 28) -> (60000, 784)\n",
            "Форма  тестовых данных: (10000, 28, 28) -> (10000, 784)\n"
          ]
        }
      ]
    },
    {
      "cell_type": "code",
      "source": [
        "#Подготовим матрицу для расчета векторов u, s, vh\n",
        "svdMatr=np.matmul(np.transpose(x_train),x_train)/len(x_train)"
      ],
      "metadata": {
        "id": "Gm9WYYcm0zV5"
      },
      "execution_count": 5,
      "outputs": []
    },
    {
      "cell_type": "code",
      "source": [
        "#Посчитаем вектора с помощью функции из библиотеки numpy\n",
        "u, s, vh = np.linalg.svd(svdMatr, full_matrices=True)\n",
        "print(u.shape, s.shape, vh.shape)"
      ],
      "metadata": {
        "colab": {
          "base_uri": "https://localhost:8080/"
        },
        "id": "TLMXvGPl0zZk",
        "outputId": "175553af-e32d-4ba0-aa8f-0a5e4961c62f"
      },
      "execution_count": 7,
      "outputs": [
        {
          "output_type": "stream",
          "name": "stdout",
          "text": [
            "(784, 784) (784,) (784, 784)\n"
          ]
        }
      ]
    },
    {
      "cell_type": "code",
      "source": [],
      "metadata": {
        "id": "qA94w4RkNN73"
      },
      "execution_count": null,
      "outputs": []
    },
    {
      "cell_type": "code",
      "source": [
        "#График точности декомпозиции от количества компонент\n",
        "plt.plot(np.arange(100)[1:],np.array([sum(s[:NComp])/sum(s) for NComp in range(1,100)]))#Нарисуем график точности декомпозиции от количества компонени"
      ],
      "metadata": {
        "colab": {
          "base_uri": "https://localhost:8080/",
          "height": 283
        },
        "id": "ui5y0Ga6GCuk",
        "outputId": "f99b5f76-da36-491d-c8d8-5bd7a85b0fc8"
      },
      "execution_count": 24,
      "outputs": [
        {
          "output_type": "execute_result",
          "data": {
            "text/plain": [
              "[<matplotlib.lines.Line2D at 0x7f56d96b0fa0>]"
            ]
          },
          "metadata": {},
          "execution_count": 24
        },
        {
          "output_type": "display_data",
          "data": {
            "text/plain": [
              "<Figure size 432x288 with 1 Axes>"
            ],
            "image/png": "[encoded data removed]"
          },
          "metadata": {
            "needs_background": "light"
          }
        }
      ]
    },
    {
      "cell_type": "code",
      "source": [
        "SelectetPrecision=0.01;#Выберем потери при декомпозиции <= 1%\n",
        "SummS=sum(s)#Суммарная энтропия\n",
        "CurrentSumm=0;#Суммируем компоненты матрицы пока не достигнем потерь <1%\n",
        "SelectedFeaturesNum=-1;#Выбранный размер декомпозиции\n",
        "LostPrecision=0\n",
        "for i in range(len(s)):\n",
        "  if SelectedFeaturesNum==-1:\n",
        "    CurrentSumm=CurrentSumm+s[i]\n",
        "    CalculatedPrecision=1-CurrentSumm/SummS\n",
        "  else:\n",
        "    LostPrecision+=s[i]\n",
        "\n",
        "  if CalculatedPrecision<=SelectetPrecision and SelectedFeaturesNum==-1:#Достигнута заданная точность декомпозиции Фиксируем кооличество компонент\n",
        "    SelectedFeaturesNum=i;\n",
        "if SelectedFeaturesNum==0 or SelectedFeaturesNum==-1:\n",
        "  SelectedFeaturesNum=s.shape[0]\n",
        "uReduse=u[:,0:SelectedFeaturesNum]#Выбранная матрица для декомпозиции\n",
        "print(\"Выбранный размер вектора декомпозиции:\",SelectedFeaturesNum)\n",
        "print(\"Потеря энтропии:\",LostPrecision,\"от \",SummS)\n"
      ],
      "metadata": {
        "colab": {
          "base_uri": "https://localhost:8080/"
        },
        "id": "qDHfGFNZ0zo5",
        "outputId": "19a1cd5b-1377-4082-f747-18b1633a7725"
      },
      "execution_count": 25,
      "outputs": [
        {
          "output_type": "stream",
          "name": "stdout",
          "text": [
            "Выбранный размер декомпозиции: 280\n",
            "Потеря энтропии: 0.8716304937319519 от  87.81001462246621\n"
          ]
        }
      ]
    },
    {
      "cell_type": "markdown",
      "source": [
        "Пример снижения размерности и восстановления картинки"
      ],
      "metadata": {
        "id": "bZCA7uiRJtEf"
      }
    },
    {
      "cell_type": "code",
      "source": [
        "#Прямое преобразование на примере тренировочного датасета\n",
        "RandomImages=np.random.randint(0,len(x_train),5)\n",
        "plt.imshow(x_train[RandomImages].reshape(140,28), cmap='gray')\n",
        "plt.show()\n",
        "TestReduseZ=np.transpose(np.matmul(np.transpose(uReduse),np.transpose(x_train)))\n",
        "#Обратное преобразование на примере тренировочного датасета\n",
        "TestReduseXRecover=np.transpose(np.matmul(uReduse,np.transpose(TestReduseZ)))\n",
        "plt.imshow(TestReduseXRecover[RandomImages].reshape(140,28), cmap='gray')\n",
        "plt.show()\n"
      ],
      "metadata": {
        "colab": {
          "base_uri": "https://localhost:8080/",
          "height": 521
        },
        "id": "SWa2WasR7jun",
        "outputId": "4d034463-84bf-4cca-cad8-bd6213d09972"
      },
      "execution_count": 42,
      "outputs": [
        {
          "output_type": "display_data",
          "data": {
            "text/plain": [
              "<Figure size 432x288 with 1 Axes>"
            ],
            "image/png": "[encoded data removed]"
          },
          "metadata": {
            "needs_background": "light"
          }
        },
        {
          "output_type": "display_data",
          "data": {
            "text/plain": [
              "<Figure size 432x288 with 1 Axes>"
            ],
            "image/png": "[encoded data removed]"
          },
          "metadata": {
            "needs_background": "light"
          }
        }
      ]
    },
    {
      "cell_type": "code",
      "source": [],
      "metadata": {
        "id": "c96wcdEz7jxg"
      },
      "execution_count": null,
      "outputs": []
    },
    {
      "cell_type": "code",
      "source": [],
      "metadata": {
        "id": "le4B3JlL7j1Z"
      },
      "execution_count": null,
      "outputs": []
    },
    {
      "cell_type": "code",
      "source": [],
      "metadata": {
        "id": "6oYBv0kv7j37"
      },
      "execution_count": null,
      "outputs": []
    },
    {
      "cell_type": "markdown",
      "source": [
        "Тренируем две нейросети и тестируем предсказание для датасета без снижения размерности и на датасете со снижением размерности."
      ],
      "metadata": {
        "id": "N4MFeuNKMLZ5"
      }
    },
    {
      "cell_type": "code",
      "source": [
        "CLASS_COUNT = 10\n",
        "# Преобразование ответов в формат one_hot_encoding\n",
        "y_train = utils.to_categorical(y_train_org, CLASS_COUNT)\n",
        "y_test = utils.to_categorical(y_test_org, CLASS_COUNT)"
      ],
      "metadata": {
        "id": "J-PHtNrI0Al-"
      },
      "execution_count": 27,
      "outputs": []
    },
    {
      "cell_type": "code",
      "source": [
        "# Создание последовательной модели\n",
        "model = Sequential()\n",
        "\n",
        "# Добавление полносвязного слоя на 800 нейронов с relu-активацией\n",
        "model.add(Dense(800, input_dim=784, activation='relu')) \n",
        "\n",
        "# Добавление полносвязного слоя на 400 нейронов с relu-активацией\n",
        "model.add(Dense(400, activation='relu')) \n",
        "\n",
        "# Добавление полносвязного слоя с количеством нейронов по числу классов с softmax-активацией\n",
        "model.add(Dense(CLASS_COUNT, activation='softmax')) \n",
        "# Компиляция модели\n",
        "model.compile(loss='categorical_crossentropy', optimizer='adam', metrics=['accuracy'])\n",
        "\n",
        "# Вывод структуры модели\n",
        "print(model.summary())"
      ],
      "metadata": {
        "colab": {
          "base_uri": "https://localhost:8080/"
        },
        "id": "3rlGq0cK0Ao5",
        "outputId": "cd8bbe17-c545-4310-945f-57ada63ef06c"
      },
      "execution_count": 43,
      "outputs": [
        {
          "output_type": "stream",
          "name": "stdout",
          "text": [
            "Model: \"sequential_1\"\n",
            "_________________________________________________________________\n",
            " Layer (type)                Output Shape              Param #   \n",
            "=================================================================\n",
            " dense_3 (Dense)             (None, 800)               628000    \n",
            "                                                                 \n",
            " dense_4 (Dense)             (None, 400)               320400    \n",
            "                                                                 \n",
            " dense_5 (Dense)             (None, 10)                4010      \n",
            "                                                                 \n",
            "=================================================================\n",
            "Total params: 952,410\n",
            "Trainable params: 952,410\n",
            "Non-trainable params: 0\n",
            "_________________________________________________________________\n",
            "None\n"
          ]
        }
      ]
    },
    {
      "cell_type": "code",
      "source": [
        "model.fit(x_train,        # обучающая выборка, входные данные\n",
        "          y_train,        # обучающая выборка, выходные данные\n",
        "          batch_size=128, # кол-во примеров, которое обрабатывает нейронка перед одним изменением весов\n",
        "          validation_data=(x_test,y_test),\n",
        "          epochs=15,      # количество эпох, когда нейронка обучается на всех примерах выборки\n",
        "          verbose=1)      # 0 - не визуализировать ход обучения, 1 - визуализировать"
      ],
      "metadata": {
        "colab": {
          "base_uri": "https://localhost:8080/"
        },
        "id": "ku6fM1Qj0AsP",
        "outputId": "9e0804b9-8014-4d54-a138-edaa8a8807b7"
      },
      "execution_count": 31,
      "outputs": [
        {
          "output_type": "stream",
          "name": "stdout",
          "text": [
            "Epoch 1/15\n",
            "469/469 [==============================] - 10s 20ms/step - loss: 0.2091 - accuracy: 0.9376 - val_loss: 0.0957 - val_accuracy: 0.9697\n",
            "Epoch 2/15\n",
            "469/469 [==============================] - 10s 21ms/step - loss: 0.0759 - accuracy: 0.9766 - val_loss: 0.0820 - val_accuracy: 0.9752\n",
            "Epoch 3/15\n",
            "469/469 [==============================] - 9s 20ms/step - loss: 0.0514 - accuracy: 0.9829 - val_loss: 0.0745 - val_accuracy: 0.9769\n",
            "Epoch 4/15\n",
            "469/469 [==============================] - 10s 20ms/step - loss: 0.0356 - accuracy: 0.9882 - val_loss: 0.0702 - val_accuracy: 0.9799\n",
            "Epoch 5/15\n",
            "469/469 [==============================] - 10s 22ms/step - loss: 0.0251 - accuracy: 0.9918 - val_loss: 0.0879 - val_accuracy: 0.9750\n",
            "Epoch 6/15\n",
            "469/469 [==============================] - 11s 24ms/step - loss: 0.0213 - accuracy: 0.9933 - val_loss: 0.0757 - val_accuracy: 0.9787\n",
            "Epoch 7/15\n",
            "469/469 [==============================] - 10s 21ms/step - loss: 0.0177 - accuracy: 0.9939 - val_loss: 0.0774 - val_accuracy: 0.9810\n",
            "Epoch 8/15\n",
            "469/469 [==============================] - 9s 20ms/step - loss: 0.0176 - accuracy: 0.9942 - val_loss: 0.0894 - val_accuracy: 0.9786\n",
            "Epoch 9/15\n",
            "469/469 [==============================] - 9s 20ms/step - loss: 0.0156 - accuracy: 0.9948 - val_loss: 0.0837 - val_accuracy: 0.9798\n",
            "Epoch 10/15\n",
            "469/469 [==============================] - 10s 22ms/step - loss: 0.0155 - accuracy: 0.9945 - val_loss: 0.0730 - val_accuracy: 0.9803\n",
            "Epoch 11/15\n",
            "469/469 [==============================] - 10s 22ms/step - loss: 0.0133 - accuracy: 0.9956 - val_loss: 0.0773 - val_accuracy: 0.9800\n",
            "Epoch 12/15\n",
            "469/469 [==============================] - 10s 21ms/step - loss: 0.0092 - accuracy: 0.9967 - val_loss: 0.0748 - val_accuracy: 0.9816\n",
            "Epoch 13/15\n",
            "469/469 [==============================] - 10s 21ms/step - loss: 0.0087 - accuracy: 0.9973 - val_loss: 0.0766 - val_accuracy: 0.9833\n",
            "Epoch 14/15\n",
            "469/469 [==============================] - 11s 23ms/step - loss: 0.0106 - accuracy: 0.9966 - val_loss: 0.0960 - val_accuracy: 0.9809\n",
            "Epoch 15/15\n",
            "469/469 [==============================] - 10s 22ms/step - loss: 0.0088 - accuracy: 0.9972 - val_loss: 0.0800 - val_accuracy: 0.9842\n"
          ]
        },
        {
          "output_type": "execute_result",
          "data": {
            "text/plain": [
              "<keras.callbacks.History at 0x7f56d5095070>"
            ]
          },
          "metadata": {},
          "execution_count": 31
        }
      ]
    },
    {
      "cell_type": "markdown",
      "source": [
        "точность 98.42%"
      ],
      "metadata": {
        "id": "d2l0-tGyMis6"
      }
    },
    {
      "cell_type": "code",
      "source": [
        "# Создание последовательной модели\n",
        "model = Sequential()\n",
        "\n",
        "# Добавление полносвязного слоя на 800 нейронов с relu-активацией\n",
        "model.add(Dense(800, input_dim=uReduse.shape[1], activation='relu')) \n",
        "\n",
        "# Добавление полносвязного слоя на 400 нейронов с relu-активацией\n",
        "model.add(Dense(400, activation='relu')) \n",
        "\n",
        "# Добавление полносвязного слоя с количеством нейронов по числу классов с softmax-активацией\n",
        "model.add(Dense(CLASS_COUNT, activation='softmax')) \n",
        "# Компиляция модели\n",
        "model.compile(loss='categorical_crossentropy', optimizer='adam', metrics=['accuracy'])\n",
        "\n",
        "# Вывод структуры модели\n",
        "print(model.summary())"
      ],
      "metadata": {
        "colab": {
          "base_uri": "https://localhost:8080/"
        },
        "id": "4LIYZQUh0Ava",
        "outputId": "81e13c24-628b-496b-d4da-2236edc718bc"
      },
      "execution_count": 46,
      "outputs": [
        {
          "output_type": "stream",
          "name": "stdout",
          "text": [
            "Model: \"sequential_3\"\n",
            "_________________________________________________________________\n",
            " Layer (type)                Output Shape              Param #   \n",
            "=================================================================\n",
            " dense_9 (Dense)             (None, 800)               224800    \n",
            "                                                                 \n",
            " dense_10 (Dense)            (None, 400)               320400    \n",
            "                                                                 \n",
            " dense_11 (Dense)            (None, 10)                4010      \n",
            "                                                                 \n",
            "=================================================================\n",
            "Total params: 549,210\n",
            "Trainable params: 549,210\n",
            "Non-trainable params: 0\n",
            "_________________________________________________________________\n",
            "None\n"
          ]
        }
      ]
    },
    {
      "cell_type": "code",
      "source": [
        "model.fit(np.transpose(np.matmul(np.transpose(uReduse),np.transpose(x_train))),        # обучающая выборка, входные данные\n",
        "          y_train,        # обучающая выборка, выходные данные\n",
        "          batch_size=128, # кол-во примеров, которое обрабатывает нейронка перед одним изменением весов\n",
        "          validation_data=(np.transpose(np.matmul(np.transpose(uReduse),np.transpose(x_test))),y_test),\n",
        "          epochs=15,      # количество эпох, когда нейронка обучается на всех примерах выборки\n",
        "          verbose=1)      # 0 - не визуализировать ход обучения, 1 - визуализировать"
      ],
      "metadata": {
        "colab": {
          "base_uri": "https://localhost:8080/"
        },
        "id": "eDrWdTbyJ7Wv",
        "outputId": "91e6c585-6272-4127-e4ee-cbe62b42a3a4"
      },
      "execution_count": 47,
      "outputs": [
        {
          "output_type": "stream",
          "name": "stdout",
          "text": [
            "Epoch 1/15\n",
            "469/469 [==============================] - 8s 16ms/step - loss: 0.2139 - accuracy: 0.9390 - val_loss: 0.1036 - val_accuracy: 0.9684\n",
            "Epoch 2/15\n",
            "469/469 [==============================] - 8s 17ms/step - loss: 0.0616 - accuracy: 0.9812 - val_loss: 0.0749 - val_accuracy: 0.9771\n",
            "Epoch 3/15\n",
            "469/469 [==============================] - 8s 16ms/step - loss: 0.0282 - accuracy: 0.9915 - val_loss: 0.0744 - val_accuracy: 0.9767\n",
            "Epoch 4/15\n",
            "469/469 [==============================] - 7s 15ms/step - loss: 0.0140 - accuracy: 0.9959 - val_loss: 0.0812 - val_accuracy: 0.9782\n",
            "Epoch 5/15\n",
            "469/469 [==============================] - 7s 15ms/step - loss: 0.0110 - accuracy: 0.9967 - val_loss: 0.0943 - val_accuracy: 0.9763\n",
            "Epoch 6/15\n",
            "469/469 [==============================] - 7s 15ms/step - loss: 0.0133 - accuracy: 0.9956 - val_loss: 0.0922 - val_accuracy: 0.9758\n",
            "Epoch 7/15\n",
            "469/469 [==============================] - 8s 16ms/step - loss: 0.0085 - accuracy: 0.9974 - val_loss: 0.0944 - val_accuracy: 0.9783\n",
            "Epoch 8/15\n",
            "469/469 [==============================] - 9s 19ms/step - loss: 0.0083 - accuracy: 0.9970 - val_loss: 0.0962 - val_accuracy: 0.9785\n",
            "Epoch 9/15\n",
            "469/469 [==============================] - 10s 20ms/step - loss: 0.0101 - accuracy: 0.9966 - val_loss: 0.1110 - val_accuracy: 0.9773\n",
            "Epoch 10/15\n",
            "469/469 [==============================] - 7s 15ms/step - loss: 0.0053 - accuracy: 0.9982 - val_loss: 0.1042 - val_accuracy: 0.9787\n",
            "Epoch 11/15\n",
            "469/469 [==============================] - 7s 15ms/step - loss: 0.0078 - accuracy: 0.9976 - val_loss: 0.1020 - val_accuracy: 0.9800\n",
            "Epoch 12/15\n",
            "469/469 [==============================] - 7s 15ms/step - loss: 0.0055 - accuracy: 0.9981 - val_loss: 0.1291 - val_accuracy: 0.9763\n",
            "Epoch 13/15\n",
            "469/469 [==============================] - 7s 15ms/step - loss: 0.0070 - accuracy: 0.9976 - val_loss: 0.1393 - val_accuracy: 0.9767\n",
            "Epoch 14/15\n",
            "469/469 [==============================] - 7s 15ms/step - loss: 0.0067 - accuracy: 0.9979 - val_loss: 0.1183 - val_accuracy: 0.9788\n",
            "Epoch 15/15\n",
            "469/469 [==============================] - 9s 18ms/step - loss: 0.0052 - accuracy: 0.9984 - val_loss: 0.1345 - val_accuracy: 0.9766\n"
          ]
        },
        {
          "output_type": "execute_result",
          "data": {
            "text/plain": [
              "<keras.callbacks.History at 0x7f56d4d85e80>"
            ]
          },
          "metadata": {},
          "execution_count": 47
        }
      ]
    },
    {
      "cell_type": "markdown",
      "source": [
        "Точность 97.66%"
      ],
      "metadata": {
        "id": "RxK-NUUPMn0J"
      }
    },
    {
      "cell_type": "code",
      "source": [
        "784/uReduse.shape[1]"
      ],
      "metadata": {
        "colab": {
          "base_uri": "https://localhost:8080/"
        },
        "id": "KHBNkqyCJ7jd",
        "outputId": "5ce8914a-9354-4e0e-ea1e-c80446d5aaab"
      },
      "execution_count": 48,
      "outputs": [
        {
          "output_type": "execute_result",
          "data": {
            "text/plain": [
              "2.8"
            ]
          },
          "metadata": {},
          "execution_count": 48
        }
      ]
    },
    {
      "cell_type": "markdown",
      "source": [
        "Получили что при снижении размерности вектора в 2.8раза получаем снижение точности предсказания на 0.76% .  В некоторых случаях это может быть существенно в некоторых не существенно."
      ],
      "metadata": {
        "id": "VliKn8aIK5GO"
      }
    }
  ]
}