{
  "nbformat": 4,
  "nbformat_minor": 0,
  "metadata": {
    "colab": {
      "provenance": [],
      "authorship_tag": "ABX9TyNTe067U5Iwd+RW/XCdjipc",
      "include_colab_link": true
    },
    "kernelspec": {
      "name": "python3",
      "display_name": "Python 3"
    },
    "language_info": {
      "name": "python"
    }
  },
  "cells": [
    {
      "cell_type": "markdown",
      "metadata": {
        "id": "view-in-github",
        "colab_type": "text"
      },
      "source": [
        "<a href=\"https://colab.research.google.com/github/A1171/ColabNotebooks/blob/main/ResNet1D_%D0%B4%D0%BB%D1%8F_%D0%B2%D1%80%D0%B5%D0%BC%D0%B5%D0%BD%D0%BD%D1%8B%D1%85_%D1%80%D1%8F%D0%B4%D0%BE%D0%B22.ipynb\" target=\"_parent\"><img src=\"https://colab.research.google.com/assets/colab-badge.svg\" alt=\"Open In Colab\"/></a>"
      ]
    },
    {
      "cell_type": "markdown",
      "source": [
        "ResNet1D переделанная мной из двухмерной на одномерную. Базовые блоки написаны как классы. Составлены несколько моделей."
      ],
      "metadata": {
        "id": "CVXq4Ka71YLF"
      }
    },
    {
      "cell_type": "code",
      "execution_count": 1,
      "metadata": {
        "id": "ztDaPUjyVoDS"
      },
      "outputs": [],
      "source": [
        "import numpy as np\n",
        "#%tensorflow_version 1.x\n",
        "import keras\n",
        "from keras import regularizers\n",
        "from keras import layers\n",
        "from keras.models import load_model\n",
        "from matplotlib import pyplot\n",
        "from sklearn import preprocessing\n",
        "from sklearn import metrics\n",
        "import tensorflow as tf\n",
        "import pickle\n",
        "import math\n",
        "from sklearn.preprocessing import LabelBinarizer,StandardScaler,MinMaxScaler\n",
        "import gc"
      ]
    },
    {
      "cell_type": "code",
      "source": [
        "#Res-net 1D\n",
        "class DBL(keras.layers.Layer):\n",
        "    def __init__(self, filters, kernel, strides=1, batch_norm=True,l2Conv=0.0005):\n",
        "        super(DBL, self).__init__()\n",
        "        self.filters=filters\n",
        "        self.kernel_size=kernel\n",
        "        self.strides=strides\n",
        "        self.batch_norm=batch_norm\n",
        "        self.padding='same' if strides == 1 else 'valid'\n",
        "        self.ZeroPadding1D=layers.ZeroPadding1D(padding=1)\n",
        "        self.l2Conv=l2Conv\n",
        "        #print(self.padding)\n",
        "        self.Conv1D=layers.Conv1D(self.filters,self.kernel_size,strides=self.strides, padding=self.padding,use_bias=not self.batch_norm, kernel_regularizer=regularizers.l2(self.l2Conv))#\n",
        "        self.BatchNormalization=layers.BatchNormalization(epsilon=0.001)\n",
        "        self.LeakyReLU=layers.LeakyReLU(alpha=0.1)\n",
        "    def call(self, inputs):\n",
        "        if self.strides> 1 :\n",
        "          x = self.ZeroPadding1D(inputs)\n",
        "        else:\n",
        "          x = inputs\n",
        "        x = self.Conv1D(x)\n",
        "        if self.batch_norm:\n",
        "          x = self.BatchNormalization(x)\n",
        "          x = self.LeakyReLU(x)\n",
        "        return x\n",
        "class Res_unit(keras.layers.Layer):\n",
        "    def __init__(self, filters,l2Conv=0.0005):\n",
        "        super(Res_unit, self).__init__()\n",
        "        self.filters=filters\n",
        "        self.DBL1=DBL(filters // 2, kernel=1,l2Conv=l2Conv)\n",
        "        self.DBL2=DBL(filters, kernel=3,l2Conv=l2Conv)\n",
        "        self.add=layers.add\n",
        "    def call(self, inputs):\n",
        "      skip_connection = inputs\n",
        "      x = self.DBL1(inputs)\n",
        "      x = self.DBL2(x)\n",
        "      x = self.add([skip_connection , x])\n",
        "      return x\n",
        "class ResBlock(keras.layers.Layer):\n",
        "    def __init__(self, filters, blocks,l2Conv=0.0005):\n",
        "        super(ResBlock, self).__init__()\n",
        "        self.filters=filters\n",
        "        self.blocks=blocks\n",
        "        self.DBL=DBL(self.filters, kernel=3, strides=2,l2Conv=l2Conv)\n",
        "        self.ResBlocks=[Res_unit(self.filters,l2Conv=l2Conv) for i in range(self.blocks)]\n",
        "    def call(self, inputs):\n",
        "      #print(len(self.ResBlocks))\n",
        "      x = self.DBL(inputs)\n",
        "      for i in range(self.blocks):\n",
        "        #print(x.shape)\n",
        "        x = self.ResBlocks[i](x)\n",
        "      return x\n",
        "def create_ResNet_model(Shape1,Neurons,Filters,l2Conv=0.0005,OutActivation='softmax',OutNeurons=3):\n",
        "  inputs1 = keras.Input(shape=Shape1)\n",
        "  lambdaActivity1=0\n",
        "  l2Dense=0.001\n",
        "  x = DBL(filters=Filters, kernel=3,l2Conv=l2Conv)(inputs1)\n",
        "  x = ResBlock(filters=Filters*2, blocks=1,l2Conv=l2Conv)(x)\n",
        "  x = ResBlock(filters=Filters*4, blocks=2,l2Conv=l2Conv)(x)\n",
        "  x = ResBlock(filters=Filters*8, blocks=8,l2Conv=l2Conv)(x)\n",
        "  x = ResBlock(filters=Filters*16, blocks=8,l2Conv=l2Conv)(x)\n",
        "  x = ResBlock(filters=Filters*32, blocks=4,l2Conv=l2Conv)(x)\n",
        "  x = layers.Flatten()(x)\n",
        "  x = layers.Dense(Neurons, activation='tanh',kernel_regularizer=regularizers.l2(l2Dense),bias_regularizer=regularizers.l2(l2Dense),activity_regularizer=regularizers.l1(lambdaActivity1))(x)\n",
        "  x = layers.Dropout(0.5)(x)\n",
        "  x = layers.Dense(OutNeurons, activation=OutActivation)(x)\n",
        "  return keras.Model(inputs=inputs1, outputs=x)\n",
        "def create_ResNet_short(Shape1,Neurons,Filters,l2Conv=0.0005,OutActivation='softmax',OutNeurons=3):\n",
        "  inputs1 = keras.Input(shape=Shape1)\n",
        "  lambdaActivity1=0\n",
        "  l2Dense=0.001\n",
        "  x = DBL(filters=Filters, kernel=3,l2Conv=l2Conv)(inputs1)\n",
        "  x = ResBlock(filters=Filters*2, blocks=1,l2Conv=l2Conv)(x)\n",
        "  x = ResBlock(filters=Filters*4, blocks=2,l2Conv=l2Conv)(x)\n",
        "  x = ResBlock(filters=Filters*8, blocks=3,l2Conv=l2Conv)(x)\n",
        "  x = ResBlock(filters=Filters*16, blocks=3,l2Conv=l2Conv)(x)\n",
        "  x = ResBlock(filters=Filters*32, blocks=2,l2Conv=l2Conv)(x)\n",
        "  x = layers.Flatten()(x)\n",
        "  x = layers.Dense(Neurons, activation='tanh',kernel_regularizer=regularizers.l2(l2Dense),bias_regularizer=regularizers.l2(l2Dense),activity_regularizer=regularizers.l1(lambdaActivity1))(x)\n",
        "  x = layers.Dropout(0.5)(x)\n",
        "  x = layers.Dense(OutNeurons, activation=OutActivation)(x)\n",
        "  return keras.Model(inputs=inputs1, outputs=x)\n",
        "def create_ResNet_short3In(Shape1,Shape2,Shape3,Neurons,Filters,l2Conv=0.0005,OutActivation='softmax',OutNeurons=3):\n",
        "  inputs1 = keras.Input(shape=Shape1)\n",
        "  inputs2 = keras.Input(shape=Shape2)\n",
        "  inputs3 = keras.Input(shape=Shape3)\n",
        "  lambdaActivity1=0\n",
        "  l2Dense=0.001\n",
        "  x = DBL(filters=Filters, kernel=3,l2Conv=l2Conv)(inputs1)\n",
        "  x = ResBlock(filters=Filters*2, blocks=1,l2Conv=l2Conv)(x)\n",
        "  x = ResBlock(filters=Filters*4, blocks=2,l2Conv=l2Conv)(x)\n",
        "  x = ResBlock(filters=Filters*8, blocks=3,l2Conv=l2Conv)(x)\n",
        "  x = ResBlock(filters=Filters*16, blocks=3,l2Conv=l2Conv)(x)\n",
        "  x = ResBlock(filters=Filters*32, blocks=2,l2Conv=l2Conv)(x)\n",
        "  x = layers.Flatten()(x)\n",
        "  x1 = DBL(filters=Filters, kernel=3,l2Conv=l2Conv)(inputs2)\n",
        "  x1 = ResBlock(filters=Filters*2, blocks=1,l2Conv=l2Conv)(x1)\n",
        "  x1 = ResBlock(filters=Filters*4, blocks=2,l2Conv=l2Conv)(x1)\n",
        "  x1 = ResBlock(filters=Filters*8, blocks=3,l2Conv=l2Conv)(x1)\n",
        "  x1 = ResBlock(filters=Filters*16, blocks=3,l2Conv=l2Conv)(x1)\n",
        "  x1 = ResBlock(filters=Filters*32, blocks=2,l2Conv=l2Conv)(x1)\n",
        "  x1 = layers.Flatten()(x1)\n",
        "  x2 = DBL(filters=Filters, kernel=3,l2Conv=l2Conv)(inputs3)\n",
        "  x2 = ResBlock(filters=Filters*2, blocks=1,l2Conv=l2Conv)(x2)\n",
        "  x2 = ResBlock(filters=Filters*4, blocks=2,l2Conv=l2Conv)(x2)\n",
        "  x2 = ResBlock(filters=Filters*8, blocks=3,l2Conv=l2Conv)(x2)\n",
        "  x2 = ResBlock(filters=Filters*16, blocks=3,l2Conv=l2Conv)(x2)\n",
        "  x2 = ResBlock(filters=Filters*32, blocks=2,l2Conv=l2Conv)(x2)\n",
        "  x2 = layers.Flatten()(x2)\n",
        "  x = layers.Concatenate()([x,x1,x2])\n",
        "  x = layers.Dense(Neurons, activation='tanh',kernel_regularizer=regularizers.l2(l2Dense),bias_regularizer=regularizers.l2(l2Dense),activity_regularizer=regularizers.l1(lambdaActivity1))(x)\n",
        "  x = layers.Dropout(0.5)(x)\n",
        "  x = layers.Dense(OutNeurons, activation=OutActivation)(x)\n",
        "  return keras.Model(inputs=[inputs1,inputs2,inputs3], outputs=x)\n",
        "\n",
        "def create_ResNet_Vshort3In(Shape1,Shape2,Shape3,Neurons,Filters,l2Conv=0.0005,OutActivation='softmax',OutNeurons=3):\n",
        "  inputs1 = keras.Input(shape=Shape1)\n",
        "  inputs2 = keras.Input(shape=Shape2)\n",
        "  inputs3 = keras.Input(shape=Shape3)\n",
        "  lambdaActivity1=0\n",
        "  l2Dense=0.001\n",
        "  x = DBL(filters=Filters, kernel=3,l2Conv=l2Conv)(inputs1)\n",
        "  x = ResBlock(filters=Filters*2, blocks=1,l2Conv=l2Conv)(x)\n",
        "  x = ResBlock(filters=Filters*4, blocks=1,l2Conv=l2Conv)(x)\n",
        "  x = ResBlock(filters=Filters*8, blocks=1,l2Conv=l2Conv)(x)\n",
        "  x = ResBlock(filters=Filters*16, blocks=1,l2Conv=l2Conv)(x)\n",
        "  x = ResBlock(filters=Filters*32, blocks=1,l2Conv=l2Conv)(x)\n",
        "  x = layers.Flatten()(x)\n",
        "  x1 = DBL(filters=Filters, kernel=3,l2Conv=l2Conv)(inputs2)\n",
        "  x1 = ResBlock(filters=Filters*2, blocks=1,l2Conv=l2Conv)(x1)\n",
        "  x1 = ResBlock(filters=Filters*4, blocks=1,l2Conv=l2Conv)(x1)\n",
        "  x1 = ResBlock(filters=Filters*8, blocks=1,l2Conv=l2Conv)(x1)\n",
        "  x1 = ResBlock(filters=Filters*16, blocks=1,l2Conv=l2Conv)(x1)\n",
        "  x1 = ResBlock(filters=Filters*32, blocks=1,l2Conv=l2Conv)(x1)\n",
        "  x1 = layers.Flatten()(x1)\n",
        "  x2 = DBL(filters=Filters, kernel=3,l2Conv=l2Conv)(inputs3)\n",
        "  x2 = ResBlock(filters=Filters*2, blocks=1,l2Conv=l2Conv)(x2)\n",
        "  x2 = ResBlock(filters=Filters*4, blocks=1,l2Conv=l2Conv)(x2)\n",
        "  x2 = ResBlock(filters=Filters*8, blocks=1,l2Conv=l2Conv)(x2)\n",
        "  x2 = ResBlock(filters=Filters*16, blocks=1,l2Conv=l2Conv)(x2)\n",
        "  x2 = ResBlock(filters=Filters*32, blocks=1,l2Conv=l2Conv)(x2)\n",
        "  x2 = layers.Flatten()(x2)\n",
        "  x = layers.Concatenate()([x,x1,x2])\n",
        "  x = layers.Dense(Neurons, activation='tanh',kernel_regularizer=regularizers.l2(l2Dense),bias_regularizer=regularizers.l2(l2Dense),activity_regularizer=regularizers.l1(lambdaActivity1))(x)\n",
        "  x = layers.Dropout(0.5)(x)\n",
        "  x = layers.Dense(OutNeurons, activation=OutActivation)(x)\n",
        "  return keras.Model(inputs=[inputs1,inputs2,inputs3], outputs=x)\n",
        "\n",
        "def create_ResNet_short4In(Shape1,Shape2,Shape3,Shape4,Neurons,Filters,l2Conv=0.0005,OutActivation='softmax',OutNeurons=3):\n",
        "  inputs1 = keras.Input(shape=Shape1)\n",
        "  inputs2 = keras.Input(shape=Shape2)\n",
        "  inputs3 = keras.Input(shape=Shape3)\n",
        "  inputs4 = keras.Input(shape=Shape4)\n",
        "  lambdaActivity1=0\n",
        "  l2Dense=0.001\n",
        "  x = DBL(filters=Filters, kernel=3,l2Conv=l2Conv)(inputs1)\n",
        "  x = ResBlock(filters=Filters*2, blocks=1,l2Conv=l2Conv)(x)\n",
        "  x = ResBlock(filters=Filters*4, blocks=2,l2Conv=l2Conv)(x)\n",
        "  x = ResBlock(filters=Filters*8, blocks=3,l2Conv=l2Conv)(x)\n",
        "  x = ResBlock(filters=Filters*16, blocks=3,l2Conv=l2Conv)(x)\n",
        "  x = ResBlock(filters=Filters*32, blocks=2,l2Conv=l2Conv)(x)\n",
        "  x = layers.Flatten()(x)\n",
        "  x1 = DBL(filters=Filters, kernel=3,l2Conv=l2Conv)(inputs2)\n",
        "  x1 = ResBlock(filters=Filters*2, blocks=1,l2Conv=l2Conv)(x1)\n",
        "  x1 = ResBlock(filters=Filters*4, blocks=2,l2Conv=l2Conv)(x1)\n",
        "  x1 = ResBlock(filters=Filters*8, blocks=3,l2Conv=l2Conv)(x1)\n",
        "  x1 = ResBlock(filters=Filters*16, blocks=3,l2Conv=l2Conv)(x1)\n",
        "  x1 = ResBlock(filters=Filters*32, blocks=2,l2Conv=l2Conv)(x1)\n",
        "  x1 = layers.Flatten()(x1)\n",
        "  x2 = DBL(filters=int(Filters*0.7), kernel=3,l2Conv=l2Conv)(inputs3)\n",
        "  x2 = ResBlock(filters=int(Filters*2*0.7), blocks=1,l2Conv=l2Conv)(x2)\n",
        "  x2 = ResBlock(filters=int(Filters*4*0.7), blocks=2,l2Conv=l2Conv)(x2)\n",
        "  x2 = ResBlock(filters=int(Filters*8*0.7), blocks=3,l2Conv=l2Conv)(x2)\n",
        "  x2 = ResBlock(filters=int(Filters*16*0.7), blocks=3,l2Conv=l2Conv)(x2)\n",
        "  x2 = ResBlock(filters=int(Filters*32*0.7), blocks=2,l2Conv=l2Conv)(x2)\n",
        "  x2 = layers.Flatten()(x2)\n",
        "  x3 = DBL(filters=int(Filters*0.5), kernel=3,l2Conv=l2Conv)(inputs4)\n",
        "  x3 = ResBlock(filters=int(Filters*2*0.5), blocks=1,l2Conv=l2Conv)(x3)\n",
        "  x3 = ResBlock(filters=int(Filters*4*0.5), blocks=2,l2Conv=l2Conv)(x3)\n",
        "  x3 = ResBlock(filters=int(Filters*8*0.5), blocks=3,l2Conv=l2Conv)(x3)\n",
        "  x3 = ResBlock(filters=int(Filters*16*0.5), blocks=3,l2Conv=l2Conv)(x3)\n",
        "  x3 = ResBlock(filters=int(Filters*32*0.5), blocks=2,l2Conv=l2Conv)(x3)\n",
        "  x3 = layers.Flatten()(x3)\n",
        "  x = layers.Concatenate()([x,x1,x2,x3])\n",
        "  x = layers.Dense(Neurons, activation='tanh',kernel_regularizer=regularizers.l2(l2Dense),bias_regularizer=regularizers.l2(l2Dense),activity_regularizer=regularizers.l1(lambdaActivity1))(x)\n",
        "  x = layers.Dropout(0.5)(x)\n",
        "  x = layers.Dense(OutNeurons, activation=OutActivation)(x)\n",
        "  return keras.Model(inputs=[inputs1,inputs2,inputs3,inputs4], outputs=x)\n"
      ],
      "metadata": {
        "id": "ooBfEml-VxaJ"
      },
      "execution_count": 2,
      "outputs": []
    },
    {
      "cell_type": "code",
      "source": [
        "from google.colab import drive\n",
        "drive.mount('/content/drive')"
      ],
      "metadata": {
        "colab": {
          "base_uri": "https://localhost:8080/"
        },
        "id": "t-pnr3EMfHvI",
        "outputId": "4642688b-b0e9-46b8-e2fc-6fef4ed1a84b"
      },
      "execution_count": 3,
      "outputs": [
        {
          "output_type": "stream",
          "name": "stdout",
          "text": [
            "Mounted at /content/drive\n"
          ]
        }
      ]
    },
    {
      "cell_type": "code",
      "source": [
        "SequencyLen=32\n",
        "RecordsStep=1\n",
        "NClasses=3\n",
        "batch_size=4096"
      ],
      "metadata": {
        "id": "guPDyC2ChXji"
      },
      "execution_count": 4,
      "outputs": []
    },
    {
      "cell_type": "code",
      "source": [
        "HistoryFileDir=\"drive/My Drive/NN/DiplShares/\"\n",
        "#Загрузка массива данных и разбивка на выборки\n",
        "AdditNames=[\"SBER_M5_Linear6\"]\n",
        "TrainTestGap=SequencyLen+100\n",
        "trainPart=0.8\n",
        "testPart=0.1\n",
        "x_features=[8,9,10,11,12,15,18,19,21]\n",
        "x_data_1 = np.loadtxt(HistoryFileDir+\"DataFileI1_\"+AdditNames[0]+'.txt')\n",
        "y_data_1 = np.loadtxt(HistoryFileDir+\"DataFileO1_\"+AdditNames[0]+'.txt')\n",
        "x_data_tr=x_data_1[:int(len(x_data_1)*trainPart)]\n",
        "x_data_test=x_data_1[int(len(x_data_1)*trainPart+TrainTestGap):int(len(x_data_1)*(trainPart+testPart)+TrainTestGap)]\n",
        "x_data_val=x_data_1[int(len(x_data_1)*(trainPart+testPart)+TrainTestGap*2):]\n",
        "y_in_data_tr=y_data_1[:int(len(x_data_1)*trainPart)]\n",
        "y_in_data_test=y_data_1[int(len(x_data_1)*trainPart+TrainTestGap):int(len(x_data_1)*(trainPart+testPart)+TrainTestGap)]\n",
        "y_in_data_val=y_data_1[int(len(x_data_1)*(trainPart+testPart)+TrainTestGap*2):]\n",
        "\n",
        "StandardScaler1=StandardScaler()\n",
        "StandardScaler1.fit(x_data_tr[:,x_features])\n",
        "x_data_tr_scaled=StandardScaler1.transform(x_data_tr[:,x_features])\n",
        "x_data_test_scaled=StandardScaler1.transform(x_data_tr[:,x_features])\n",
        "x_data_tr_datagen=tf.keras.preprocessing.sequence.TimeseriesGenerator(x_data_tr_scaled,y_in_data_tr[:,-3:],SequencyLen,sampling_rate=1,stride=1,batch_size=batch_size)\n",
        "x_data_tst_datagen=tf.keras.preprocessing.sequence.TimeseriesGenerator(x_data_tr_scaled,y_in_data_tr[:,-3:],SequencyLen,sampling_rate=1,stride=1,batch_size=batch_size)\n",
        "\n",
        "\n"
      ],
      "metadata": {
        "id": "qViwWvwjVxpI"
      },
      "execution_count": 18,
      "outputs": []
    },
    {
      "cell_type": "code",
      "source": [
        "x_data_tr_datagen[0][0].shape"
      ],
      "metadata": {
        "colab": {
          "base_uri": "https://localhost:8080/"
        },
        "id": "RAmnEFkbtjGE",
        "outputId": "b7a6e114-b865-4e4c-818e-7efd35cc77af"
      },
      "execution_count": 19,
      "outputs": [
        {
          "output_type": "execute_result",
          "data": {
            "text/plain": [
              "(4096, 32, 9)"
            ]
          },
          "metadata": {},
          "execution_count": 19
        }
      ]
    },
    {
      "cell_type": "code",
      "source": [
        "adamopt=tf.keras.optimizers.Adam(learning_rate=0.0004, beta_1=0.9, beta_2=0.999, amsgrad=False)"
      ],
      "metadata": {
        "id": "3_Dpbztmcys5"
      },
      "execution_count": 16,
      "outputs": []
    },
    {
      "cell_type": "code",
      "source": [
        "def GetWeightMatrixClassic(TemplTr):\n",
        "    ClassX=[]\n",
        "    Argmax=np.argmax(TemplTr,axis=1)\n",
        "    for i in range(TemplTr.shape[1]):\n",
        "      ClassX.append(len(TemplTr[Argmax==i]))\n",
        "    WeightMatrix=1/np.array(ClassX)\n",
        "    WeightMatrix=WeightMatrix/np.amax(WeightMatrix)\n",
        "    Multiplier=np.sum(1/WeightMatrix)/len(WeightMatrix)\n",
        "    WeightMatrix=WeightMatrix*Multiplier\n",
        "    WeightMatrix2=dict(enumerate(WeightMatrix.flatten(), 0))\n",
        "    return WeightMatrix2"
      ],
      "metadata": {
        "id": "RdKKhLCvsdV-"
      },
      "execution_count": 15,
      "outputs": []
    },
    {
      "cell_type": "code",
      "source": [
        "WeightMatrix2=GetWeightMatrixClassic(y_in_data_tr[:,-3:])\n",
        "WeightMatrix2"
      ],
      "metadata": {
        "colab": {
          "base_uri": "https://localhost:8080/"
        },
        "id": "GOEQAOzPcnLY",
        "outputId": "ca876a55-f1cd-4f50-fc9c-7293868673f8"
      },
      "execution_count": 17,
      "outputs": [
        {
          "output_type": "execute_result",
          "data": {
            "text/plain": [
              "{0: 3.141187948089663, 1: 0.4218224915529476, 2: 3.2156029357116314}"
            ]
          },
          "metadata": {},
          "execution_count": 17
        }
      ]
    },
    {
      "cell_type": "code",
      "source": [
        "#Границы классификации для предварительной оценки доходности в калбеке\n",
        "model_10=create_ResNet_model(x_data_tr_datagen[0][0][0].shape,20,8,l2Conv=0.00005,OutActivation='softmax',OutNeurons=3)\n",
        "model_10.compile(loss=\"categorical_crossentropy\",optimizer=adamopt,metrics=['accuracy','mae'])\n",
        "history1=model_10.fit(x_data_tr_datagen,validation_data=x_data_tst_datagen,class_weight=WeightMatrix2,epochs=10,verbose=1)#"
      ],
      "metadata": {
        "colab": {
          "base_uri": "https://localhost:8080/"
        },
        "id": "Pn9xqDIvVxwr",
        "outputId": "7eefa013-a3a3-4fa7-8c98-3ea7f2585798"
      },
      "execution_count": 25,
      "outputs": [
        {
          "output_type": "stream",
          "name": "stdout",
          "text": [
            "Epoch 1/10\n",
            "68/68 [==============================] - 230s 3s/step - loss: 1.4141 - accuracy: 0.4238 - mae: 0.4398 - val_loss: 1.3072 - val_accuracy: 0.4426 - val_mae: 0.4449\n",
            "Epoch 2/10\n",
            "68/68 [==============================] - 206s 3s/step - loss: 1.3066 - accuracy: 0.4678 - mae: 0.4389 - val_loss: 1.1971 - val_accuracy: 0.7440 - val_mae: 0.4190\n",
            "Epoch 3/10\n",
            "68/68 [==============================] - 210s 3s/step - loss: 1.2928 - accuracy: 0.4827 - mae: 0.4377 - val_loss: 1.2552 - val_accuracy: 0.6186 - val_mae: 0.4323\n",
            "Epoch 4/10\n",
            "68/68 [==============================] - 215s 3s/step - loss: 1.2817 - accuracy: 0.4876 - mae: 0.4347 - val_loss: 1.3354 - val_accuracy: 0.4645 - val_mae: 0.4474\n",
            "Epoch 5/10\n",
            "68/68 [==============================] - 206s 3s/step - loss: 1.2729 - accuracy: 0.4648 - mae: 0.4358 - val_loss: 1.2881 - val_accuracy: 0.5144 - val_mae: 0.4369\n",
            "Epoch 6/10\n",
            "68/68 [==============================] - 200s 3s/step - loss: 1.2634 - accuracy: 0.4693 - mae: 0.4330 - val_loss: 1.3202 - val_accuracy: 0.4434 - val_mae: 0.4439\n",
            "Epoch 7/10\n",
            "68/68 [==============================] - 199s 3s/step - loss: 1.2537 - accuracy: 0.4599 - mae: 0.4313 - val_loss: 1.3365 - val_accuracy: 0.4228 - val_mae: 0.4452\n",
            "Epoch 8/10\n",
            "68/68 [==============================] - 199s 3s/step - loss: 1.2441 - accuracy: 0.4462 - mae: 0.4304 - val_loss: 1.3044 - val_accuracy: 0.3975 - val_mae: 0.4426\n",
            "Epoch 9/10\n",
            "68/68 [==============================] - 199s 3s/step - loss: 1.2328 - accuracy: 0.4357 - mae: 0.4286 - val_loss: 1.2767 - val_accuracy: 0.4237 - val_mae: 0.4348\n",
            "Epoch 10/10\n",
            "68/68 [==============================] - 202s 3s/step - loss: 1.2223 - accuracy: 0.4282 - mae: 0.4264 - val_loss: 1.3814 - val_accuracy: 0.3288 - val_mae: 0.4532\n"
          ]
        }
      ]
    },
    {
      "cell_type": "code",
      "source": [
        "import matplotlib.pyplot as plt\n",
        "plt.plot(history1.history['accuracy'],label='Train')\n",
        "plt.plot(history1.history['val_accuracy'],label='Test')\n",
        "plt.legend()\n",
        "plt.show()\n",
        "plt.plot(history1.history['loss'],label='Train')\n",
        "plt.plot(history1.history['val_loss'],label='Test')\n",
        "plt.legend()\n",
        "plt.show()"
      ],
      "metadata": {
        "colab": {
          "base_uri": "https://localhost:8080/",
          "height": 513
        },
        "id": "tsQG9kgXxKyl",
        "outputId": "1803fe86-9224-435f-fe7e-aa50949d1fab"
      },
      "execution_count": 26,
      "outputs": [
        {
          "output_type": "display_data",
          "data": {
            "text/plain": [
              "<Figure size 432x288 with 1 Axes>"
            ],
            "image/png": "[encoded data removed]"
          },
          "metadata": {
            "needs_background": "light"
          }
        },
        {
          "output_type": "display_data",
          "data": {
            "text/plain": [
              "<Figure size 432x288 with 1 Axes>"
            ],
            "image/png": "[encoded data removed]"
          },
          "metadata": {
            "needs_background": "light"
          }
        }
      ]
    },
    {
      "cell_type": "code",
      "source": [],
      "metadata": {
        "id": "9O7T2gLT4DEL"
      },
      "execution_count": null,
      "outputs": []
    },
    {
      "cell_type": "code",
      "source": [],
      "metadata": {
        "id": "WaiYV1sV4DGc"
      },
      "execution_count": null,
      "outputs": []
    },
    {
      "cell_type": "code",
      "source": [],
      "metadata": {
        "id": "rpfXDwmej_7w"
      },
      "execution_count": null,
      "outputs": []
    }
  ]
}